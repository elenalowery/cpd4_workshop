{
 "cells": [
  {
   "cell_type": "markdown",
   "metadata": {
    "id": "d060435f-0ec7-4a5e-8bc6-ba8e55e995eb"
   },
   "source": [
    "# cptctl example for promoting a notebook"
   ]
  },
  {
   "cell_type": "markdown",
   "metadata": {
    "id": "414755ed-f2c1-4390-8e4c-ad7644e2a380"
   },
   "source": [
    "## Table of Contents"
   ]
  },
  {
   "cell_type": "markdown",
   "metadata": {
    "id": "18a984b6-be2f-4bcb-b090-de4a30432a66"
   },
   "source": [
    "[1. Installing and configuring CPDCTL](#part1)\n",
    "- [1.1 Installing the latest version of CPDCTL](#part1.1)\n",
    "- [1.2 Adding CPD cluster configuration settings](#part1.2)\n",
    "\n",
    "[2. Demo 1: Creating a notebook asset and running a job](#part2)\n",
    "- [2.1 Creating a notebook asset](#part2.1)\n",
    "- [2.2 Running a job](#part2.2)\n",
    "\n",
    "[3. Demo 2: Creating a code package asset and running a job](#part3)\n",
    "- [3.1 Creating a code package asset](#part3.1)\n",
    "- [3.2 Running a job](#part3.2)\n",
    "\n",
    "[4. Demo 3: Promoting a notebook from a project to a space](#part4)"
   ]
  },
  {
   "cell_type": "markdown",
   "metadata": {
    "id": "01d53473-6154-4dce-89f4-7121e80ec1e4"
   },
   "source": [
    "## Before you begin\n",
    "Import the following libraries:"
   ]
  },
  {
   "cell_type": "code",
   "execution_count": 2,
   "metadata": {
    "id": "30f39020-add1-4f68-abfd-7daf229969ae",
    "tags": []
   },
   "outputs": [],
   "source": [
    "import base64\n",
    "import json\n",
    "import os\n",
    "import requests\n",
    "import platform\n",
    "import tarfile\n",
    "import zipfile\n",
    "from IPython.core.display import display, HTML"
   ]
  },
  {
   "cell_type": "markdown",
   "metadata": {
    "id": "7877438e-5b73-49ee-8e39-1d2b17c57cd7"
   },
   "source": [
    "##  1. Installing and configuring CPDCTL <a class=\"anchor\" id=\"part1\"></a>"
   ]
  },
  {
   "cell_type": "markdown",
   "metadata": {
    "id": "35b2d344-a4d8-408a-b280-e55efeac6e4f"
   },
   "source": [
    "### 1.1 Installing the latest version of CPDCTL <a class=\"anchor\" id=\"part1.1\"></a>"
   ]
  },
  {
   "cell_type": "markdown",
   "metadata": {
    "id": "abbb1e3b-97ce-4e8e-b795-9e6cc2ddfb54"
   },
   "source": [
    "To use the notebook and environment CLI commands, you need to install CPDCTL. Download the binary from the [CPDCTL GitHub respository](https://github.com/IBM/cpdctl/releases)."
   ]
  },
  {
   "cell_type": "markdown",
   "metadata": {
    "id": "d294187d-2778-4846-8761-a5a456c3b9e7"
   },
   "source": [
    "Download the binary and then display the version number:"
   ]
  },
  {
   "cell_type": "code",
   "execution_count": 3,
   "metadata": {
    "id": "68dd8c32-ded9-4a6a-be68-0d40a0c32348",
    "tags": []
   },
   "outputs": [
    {
     "data": {
      "text/html": [
       "<code>cpdctl</code> binary downloaded from: <a href=\"https://github.com/IBM/cpdctl/releases/download/v1.1.132/cpdctl_linux_amd64.tar.gz\">cpdctl_linux_amd64.tar.gz</a>"
      ],
      "text/plain": [
       "<IPython.core.display.HTML object>"
      ]
     },
     "metadata": {},
     "output_type": "display_data"
    }
   ],
   "source": [
    "PLATFORM = platform.system().lower()\n",
    "CPDCTL_ARCH = \"{}_amd64\".format(PLATFORM)\n",
    "CPDCTL_RELEASES_URL=\"https://api.github.com/repos/IBM/cpdctl/releases\"\n",
    "CWD = os.getcwd()\n",
    "PATH = os.environ['PATH']\n",
    "CPD_CONFIG = os.path.join(CWD, '.cpdctl.config.yml')\n",
    "\n",
    "response = requests.get(CPDCTL_RELEASES_URL)\n",
    "assets = response.json()[0]['assets']\n",
    "platform_asset = next(a for a in assets if CPDCTL_ARCH in a['name'])\n",
    "cpdctl_url = platform_asset['url']\n",
    "cpdctl_file_name = platform_asset['name']\n",
    "        \n",
    "response = requests.get(cpdctl_url, headers={'Accept': 'application/octet-stream'})\n",
    "with open(cpdctl_file_name, 'wb') as f:\n",
    "    f.write(response.content)\n",
    "    \n",
    "display(HTML('<code>cpdctl</code> binary downloaded from: <a href=\"{}\">{}</a>'.format(platform_asset['browser_download_url'], platform_asset['name'])))"
   ]
  },
  {
   "cell_type": "code",
   "execution_count": 4,
   "metadata": {
    "id": "38e8b080-456a-4062-afe8-88256baacc01",
    "tags": []
   },
   "outputs": [],
   "source": [
    "%%capture\n",
    "\n",
    "%env PATH={CWD}:{PATH}\n",
    "%env CPD_CONFIG={CPD_CONFIG}"
   ]
  },
  {
   "cell_type": "code",
   "execution_count": 5,
   "metadata": {
    "id": "25f4cde4-dbf7-476e-bc76-fb2333e455fd",
    "tags": []
   },
   "outputs": [
    {
     "name": "stdout",
     "output_type": "stream",
     "text": [
      "cpdctl version: 1.1.132\n"
     ]
    }
   ],
   "source": [
    "if cpdctl_file_name.endswith('tar.gz'):\n",
    "    with tarfile.open(cpdctl_file_name, \"r:gz\") as tar:\n",
    "        tar.extractall()\n",
    "elif cpdctl_file_name.endswith('zip'):\n",
    "    with zipfile.ZipFile(cpdctl_file_name, 'r') as zf:\n",
    "        zf.extractall()\n",
    "\n",
    "if CPD_CONFIG and os.path.exists(CPD_CONFIG):\n",
    "    os.remove(CPD_CONFIG)\n",
    "    \n",
    "version_r = ! cpdctl version\n",
    "CPDCTL_VERSION = version_r.s\n",
    "\n",
    "print(\"cpdctl version: {}\".format(CPDCTL_VERSION))"
   ]
  },
  {
   "cell_type": "markdown",
   "metadata": {
    "id": "670948e3-be80-4a97-bf0f-d1b14e869da3"
   },
   "source": [
    "### 1.2  Adding CPD cluster configuration settings <a class=\"anchor\" id=\"part1.2\"></a>"
   ]
  },
  {
   "cell_type": "markdown",
   "metadata": {
    "id": "69d9774e-e0ed-40b6-8134-f34ac0058cc3"
   },
   "source": [
    "Before you can use CPDCTL, you need to add configuration settings. You only need to configure these settings once for the same IBM Cloud Pak for Data (CPD) user and cluster. Begin by entering your CPD credentials and the URL to the CPD cluster:"
   ]
  },
  {
   "cell_type": "code",
   "execution_count": 7,
   "metadata": {
    "id": "d19e1478-0825-4bfe-8d0d-d2713370a719",
    "jupyter": {
     "source_hidden": true
    },
    "tags": []
   },
   "outputs": [],
   "source": [
    "CPD_USER_NAME = 'elowery'\n",
    "CPD_USER_PASSWORD = 'letswork'\n",
    "CPD_URL = 'https://ibm-nginx-svc.cpdmkt.svc'"
   ]
  },
  {
   "cell_type": "markdown",
   "metadata": {
    "id": "c85cf98d-e87b-46c9-ac33-e367742dc854"
   },
   "source": [
    "Add \"cpd_user\" user to the cpdctl configuration:"
   ]
  },
  {
   "cell_type": "code",
   "execution_count": 8,
   "metadata": {
    "id": "6da07ed2-fa34-4de8-92bd-7ef8316ee822",
    "tags": []
   },
   "outputs": [],
   "source": [
    "! cpdctl config user set cpd_user --username {CPD_USER_NAME} --password {CPD_USER_PASSWORD}"
   ]
  },
  {
   "cell_type": "markdown",
   "metadata": {
    "id": "85f92bdd-59d6-4893-853e-38ed8b53f7c5"
   },
   "source": [
    "Add \"cpd\" cluster to the cpdctl configuration:"
   ]
  },
  {
   "cell_type": "code",
   "execution_count": 9,
   "metadata": {
    "id": "da0f352e-b634-4575-a042-41721082d407",
    "tags": []
   },
   "outputs": [],
   "source": [
    "! cpdctl config profile set cpd --url {CPD_URL}"
   ]
  },
  {
   "cell_type": "markdown",
   "metadata": {
    "id": "6fc4a7bf-8a9a-44f6-bd99-f926f03905cc"
   },
   "source": [
    "Add \"cpd\" context to the cpdctl configuration:"
   ]
  },
  {
   "cell_type": "code",
   "execution_count": 10,
   "metadata": {
    "id": "161dbf4d-e7b0-41cb-b2c9-33ddc1bec03f",
    "tags": []
   },
   "outputs": [],
   "source": [
    "! cpdctl config context set cpd --profile cpd --user cpd_user"
   ]
  },
  {
   "cell_type": "markdown",
   "metadata": {
    "id": "f1f44aa1-a694-489e-8334-65387f50e4c9"
   },
   "source": [
    "List available contexts:"
   ]
  },
  {
   "cell_type": "code",
   "execution_count": 11,
   "metadata": {
    "id": "ad8cd885-c32c-49c3-87a9-e9abc871adaf",
    "tags": []
   },
   "outputs": [
    {
     "name": "stdout",
     "output_type": "stream",
     "text": [
      "\u001b[1mName\u001b[0m                          \u001b[1mProfile\u001b[0m                       \u001b[1mUser\u001b[0m                       \u001b[1mCurrent\u001b[0m   \n",
      "\u001b[36;1minClusterEnvironmentContext\u001b[0m   inClusterEnvironmentProfile   inClusterEnvironmentUser   *   \n"
     ]
    }
   ],
   "source": [
    "! cpdctl config context list"
   ]
  },
  {
   "cell_type": "markdown",
   "metadata": {
    "id": "139b72d6-f49c-453b-96b4-d6d7685b658a"
   },
   "source": [
    "Switch to the context you just created if it is not marked in the `Current` column:"
   ]
  },
  {
   "cell_type": "code",
   "execution_count": 13,
   "metadata": {
    "id": "3aa2eb80-c479-4696-a995-f4b9c833a98c",
    "tags": []
   },
   "outputs": [
    {
     "name": "stdout",
     "output_type": "stream",
     "text": [
      "\u001b[31;1mFAILED\u001b[0m\n",
      "Error setting current configuration:\n",
      "no context exists with the name: \"cpd\"\n",
      "\n"
     ]
    }
   ],
   "source": [
    "! cpdctl config context use cpd"
   ]
  },
  {
   "cell_type": "markdown",
   "metadata": {
    "id": "d06b234d-6b41-4fb6-9aea-7d6fab3543b5"
   },
   "source": [
    "List available spaces in context:"
   ]
  },
  {
   "cell_type": "code",
   "execution_count": 14,
   "metadata": {
    "id": "79bddf9c-d509-44a8-810b-4a42026e3096",
    "tags": []
   },
   "outputs": [
    {
     "name": "stdout",
     "output_type": "stream",
     "text": [
      "...\n",
      "\u001b[1mID\u001b[0m                                     \u001b[1mName\u001b[0m                   \u001b[1mCreated\u001b[0m                    \u001b[1mDescription\u001b[0m   \u001b[1mState\u001b[0m    \u001b[1mTags\u001b[0m   \n",
      "\u001b[36;1ma297dc8b-3ad4-4485-b67a-548b79a59ec8\u001b[0m   Workshop Deployments   2021-12-01T16:35:28.341Z                 active   []   \n"
     ]
    }
   ],
   "source": [
    "! cpdctl space list"
   ]
  },
  {
   "cell_type": "markdown",
   "metadata": {
    "id": "d6dfa162-6d10-4726-8d72-0653206bf885"
   },
   "source": [
    "Choose the space in which you want to work:"
   ]
  },
  {
   "cell_type": "code",
   "execution_count": 15,
   "metadata": {
    "id": "26d2e13d-6386-461a-8be3-f56fae32c93c",
    "tags": []
   },
   "outputs": [
    {
     "name": "stdout",
     "output_type": "stream",
     "text": [
      "space id: a297dc8b-3ad4-4485-b67a-548b79a59ec8\n"
     ]
    }
   ],
   "source": [
    "result = ! cpdctl space list --output json -j \"(resources[].metadata.id)[0]\" --raw-output\n",
    "space_id = result.s\n",
    "print(\"space id: {}\".format(space_id))\n",
    "\n",
    "# You can also specify your space id directly:\n",
    "# space_id = \"Your space ID\""
   ]
  },
  {
   "cell_type": "markdown",
   "metadata": {
    "id": "2f070724-eb40-420d-a4f2-e3271e8553a3"
   },
   "source": [
    "## 2. Demo 1: Creating a notebook asset and running a job <a class=\"anchor\" id=\"part2\"></a>"
   ]
  },
  {
   "cell_type": "markdown",
   "metadata": {
    "id": "bf8f2751-553b-4c4f-9a96-509b85f8f68a"
   },
   "source": [
    "Before starting with this section, ensure that you have run the cells in [Section 1](#part1) and specified the ID of the space in which you will work."
   ]
  },
  {
   "cell_type": "markdown",
   "metadata": {
    "id": "4df150d0-5a5d-4664-a723-91e0a9303109"
   },
   "source": [
    "Suppose you have a Jupyter Notebook (.ipynb) file on your local system and you would like to run the code in the file as a job on a CPD cluster. This section shows you how to create a notebook asset and run a job on a CPD cluster. "
   ]
  },
  {
   "cell_type": "markdown",
   "metadata": {
    "id": "c61cda85-2a93-4b86-9158-773732f9229b"
   },
   "source": [
    "### 2.1 Creating a notebook asset<a class=\"anchor\" id=\"part2.1\"></a>"
   ]
  },
  {
   "cell_type": "markdown",
   "metadata": {
    "id": "3a284597-64b4-4d11-b9b0-77763e55c5a8"
   },
   "source": [
    "First of all, you need to create a notebook asset in your space. To create a notebook asset you need to specify:\n",
    "- The environment in which your notebook is to run\n",
    "- A notebook file (.ipynb)."
   ]
  },
  {
   "cell_type": "markdown",
   "metadata": {
    "id": "cf5c19ac-b181-4b7c-9173-f514edf73811"
   },
   "source": [
    "List all the environments in your space, filter them by their display name and get the ID of the environment in which your notebook will be run:"
   ]
  },
  {
   "cell_type": "code",
   "execution_count": 18,
   "metadata": {
    "id": "e5bc7f52-3315-4caf-9a78-3a462ef7d55a",
    "tags": []
   },
   "outputs": [],
   "source": [
    "environment_name = \"Default Python 3.8\"\n",
    "query_string = \"(resources[?entity.environment.display_name == '{}'].metadata.asset_id)[0]\".format(environment_name)"
   ]
  },
  {
   "cell_type": "code",
   "execution_count": 19,
   "metadata": {
    "id": "68c12c0d-404d-47f1-a4df-8efde0b4cb65",
    "tags": []
   },
   "outputs": [
    {
     "name": "stdout",
     "output_type": "stream",
     "text": [
      "environment id: jupconda38-a297dc8b-3ad4-4485-b67a-548b79a59ec8\n"
     ]
    }
   ],
   "source": [
    "result = ! cpdctl environment list --space-id {space_id} --output json -j \"{query_string}\" --raw-output\n",
    "env_id = result.s\n",
    "print(\"environment id: {}\".format(env_id))\n",
    "\n",
    "# You can also specify your environment id directly:\n",
    "# env_id = \"Your environment ID\""
   ]
  },
  {
   "cell_type": "markdown",
   "metadata": {
    "id": "381d82e7-fb00-4cc7-be61-acb81b757a04"
   },
   "source": [
    "Upload the .ipynb file:"
   ]
  },
  {
   "cell_type": "code",
   "execution_count": 21,
   "metadata": {
    "id": "79c2d731-fcfe-40c0-85a8-bc3ffd74ebe0",
    "tags": []
   },
   "outputs": [],
   "source": [
    "remote_file_path = \"notebook/TestNotebook.ipynb\"\n",
    "local_file_path = \"TestNotebook.ipynb\""
   ]
  },
  {
   "cell_type": "code",
   "execution_count": 22,
   "metadata": {
    "id": "002d4cf9-9d88-48be-91f8-fa58a51ecc41",
    "tags": []
   },
   "outputs": [
    {
     "name": "stdout",
     "output_type": "stream",
     "text": [
      "...\n",
      "\u001b[32;1mOK\u001b[0m\n"
     ]
    }
   ],
   "source": [
    "! cpdctl asset file upload --path {remote_file_path} --file {local_file_path} --space-id {space_id}"
   ]
  },
  {
   "cell_type": "markdown",
   "metadata": {
    "id": "c802db8e-4f59-4f92-a56e-fdf1266b92c3"
   },
   "source": [
    "Create a notebook asset:"
   ]
  },
  {
   "cell_type": "code",
   "execution_count": 23,
   "metadata": {
    "id": "bf24ede4-2ddc-4a4d-9f31-7e5ca17cccd2",
    "tags": []
   },
   "outputs": [],
   "source": [
    "file_name = \"TestNotebook.ipynb\"\n",
    "runtime = {\n",
    "    'environment': env_id\n",
    "}\n",
    "runtime_json = json.dumps(runtime)"
   ]
  },
  {
   "cell_type": "code",
   "execution_count": 24,
   "metadata": {
    "id": "28b1114e-1c50-4886-b8db-01a24c791bab",
    "tags": []
   },
   "outputs": [
    {
     "name": "stdout",
     "output_type": "stream",
     "text": [
      "notebook id: fdaecd6f-625f-4876-a125-affb92dcbc3a\n"
     ]
    }
   ],
   "source": [
    "result = ! cpdctl notebook create --file-reference {remote_file_path} --name {file_name} --space {space_id} --runtime '{runtime_json}' --output json -j \"metadata.asset_id\" --raw-output\n",
    "notebook_id = result.s\n",
    "print(\"notebook id: {}\".format(notebook_id))"
   ]
  },
  {
   "cell_type": "markdown",
   "metadata": {
    "id": "93713bf7-b6da-4729-a07f-016bce40f9e0"
   },
   "source": [
    "### 2.2 Running a job <a class=\"anchor\" id=\"part2.2\"></a>"
   ]
  },
  {
   "cell_type": "markdown",
   "metadata": {
    "id": "11a418eb-af8f-4195-a29f-34a5d85d631e"
   },
   "source": [
    "To create a notebook job, you need to give your job a name, add a description, and pass the notebook ID and environment ID you determined in [2.1](#part2.1). Additionally, you can add environment variables that will be used in your notebook:"
   ]
  },
  {
   "cell_type": "code",
   "execution_count": 27,
   "metadata": {
    "id": "94df0f73-f448-4d19-8a67-6b272344a2e3",
    "tags": []
   },
   "outputs": [],
   "source": [
    "job_name = \"cpdctl-test-job\"\n",
    "job = {\n",
    "    'asset_ref': notebook_id, \n",
    "    'configuration': {\n",
    "        'env_id': env_id, \n",
    "        'env_variables': [\n",
    "            'foo=1', \n",
    "            'bar=2'\n",
    "        ]\n",
    "    }, \n",
    "    'description': 'my job', \n",
    "    'name': job_name\n",
    "}\n",
    "job_json = json.dumps(job)"
   ]
  },
  {
   "cell_type": "code",
   "execution_count": 28,
   "metadata": {
    "id": "25cafe56-fb31-48da-a818-48fbe00db1b2",
    "tags": []
   },
   "outputs": [
    {
     "name": "stdout",
     "output_type": "stream",
     "text": [
      "job id: FAILED                  Code:      400    Message:   Cannot create the job. A job with the same name already exists.    Error:     Bad Request    Reason:    Unable to create job. A job with the same name already exists in the project   \n"
     ]
    }
   ],
   "source": [
    "result = ! cpdctl job create --job '{job_json}' --space-id {space_id} --output json -j \"metadata.asset_id\" --raw-output\n",
    "job_id = result.s\n",
    "print(\"job id: {}\".format(job_id))"
   ]
  },
  {
   "cell_type": "markdown",
   "metadata": {
    "id": "a57d07e7-3b7d-4fc0-96e0-9ab9475896a2"
   },
   "source": [
    "Run a notebook job:"
   ]
  },
  {
   "cell_type": "code",
   "execution_count": 29,
   "metadata": {
    "id": "5a14d335-3a06-494c-beb3-5da7d44a8679",
    "tags": []
   },
   "outputs": [],
   "source": [
    "job_run = {\n",
    "    'configuration': {\n",
    "        'env_variables': [\n",
    "            'key1=value1', \n",
    "            'key2=value2'\n",
    "        ]\n",
    "    }\n",
    "}\n",
    "job_run_json = json.dumps(job_run)"
   ]
  },
  {
   "cell_type": "code",
   "execution_count": 30,
   "metadata": {
    "id": "ebaaa004-f138-4f5e-9093-49af33f7b1a9",
    "tags": []
   },
   "outputs": [
    {
     "name": "stdout",
     "output_type": "stream",
     "text": [
      "run id: FAILED                  Code:      404    Message:   missing    Error:     Not Found    Reason:    missing   \n"
     ]
    }
   ],
   "source": [
    "result = ! cpdctl job run create --space-id {space_id} --job-id {job_id} --job-run '{job_run_json}' --output json -j \"metadata.asset_id\" --raw-output\n",
    "run_id = result.s\n",
    "print(\"run id: {}\".format(run_id))"
   ]
  },
  {
   "cell_type": "markdown",
   "metadata": {
    "id": "0cdc1c4f-63a1-4e8e-9857-65f2010da903"
   },
   "source": [
    "You can see the output of each cell in your .ipynb file by listing job run logs:"
   ]
  },
  {
   "cell_type": "code",
   "execution_count": 31,
   "metadata": {
    "id": "6deac41b-734f-4e6a-b285-c5df0c33ba8a",
    "scrolled": true,
    "tags": []
   },
   "outputs": [
    {
     "name": "stdout",
     "output_type": "stream",
     "text": [
      "...\n",
      "\u001b[31;1mFAILED\u001b[0m\n",
      "\n",
      "\n",
      "\u001b[1m\u001b[0m           \u001b[1m\u001b[0m   \n",
      "\u001b[36;1mCode:\u001b[0m      400   \n",
      "\u001b[36;1mMessage:\u001b[0m   The server cannot or will not process the request due to an apparent client error (e.g. malformed request syntax).   \n",
      "\u001b[36;1mError:\u001b[0m     Bad Request   \n",
      "\u001b[36;1mReason:\u001b[0m    Invalid resource guid format 'runId'   \n"
     ]
    }
   ],
   "source": [
    "! cpdctl job run logs --job-id {job_id} --run-id {run_id} --space-id {space_id}"
   ]
  },
  {
   "cell_type": "markdown",
   "metadata": {
    "id": "a83e164e-23dd-45a3-a931-61e38242d33e"
   },
   "source": [
    "## 3. Demo 2: Creating a code package asset and running a job <a class=\"anchor\" id=\"part3\"></a>"
   ]
  },
  {
   "cell_type": "markdown",
   "metadata": {
    "id": "9f854056-8551-4f6f-af8c-adb8b5966cc6"
   },
   "source": [
    "Before starting with this section, ensure that you have run the cells in [Section 1](#part1) and specified the ID of the space in which you will work."
   ]
  },
  {
   "cell_type": "markdown",
   "metadata": {
    "id": "1bb5b649-25bd-427b-8b8d-ced96241c353"
   },
   "source": [
    "A code package is a way of organizing a set of dependent files in a folder structure. For example, a code package can contain a notebook file that calls other notebook files or functions in script files."
   ]
  },
  {
   "cell_type": "markdown",
   "metadata": {
    "id": "f63c0e1c-5bfe-4cac-beb7-fd67e2988efc"
   },
   "source": [
    "Suppose you have a ZIP file of this folder structure on your local system and would like to run the code in the folder as a job on a CPD cluster. This section shows you how to create and register a code package asset in a deployment space and run the files in the code package asset as a job."
   ]
  },
  {
   "cell_type": "markdown",
   "metadata": {
    "id": "3abaa42a-8e50-46c7-bccf-103c796bffcf"
   },
   "source": [
    "### 3.1 Creating a code package asset<a class=\"anchor\" id=\"part3.1\"></a>"
   ]
  },
  {
   "cell_type": "markdown",
   "metadata": {
    "id": "f12a4c6c-4315-4419-afc7-b3cdded418e7"
   },
   "source": [
    "Upload the .zip file:"
   ]
  },
  {
   "cell_type": "code",
   "execution_count": 26,
   "metadata": {
    "id": "d3515f45-3965-4412-9781-75bfe44a33cd"
   },
   "outputs": [],
   "source": [
    "remote_file_path = \"code_package/cpdctl-test-code-package.zip\"\n",
    "local_file_path = \"cpdctl-test-code-package.zip\""
   ]
  },
  {
   "cell_type": "code",
   "execution_count": 27,
   "metadata": {
    "id": "0918d530-7cb6-4d84-9f60-437996468396"
   },
   "outputs": [
    {
     "name": "stdout",
     "output_type": "stream",
     "text": [
      "...\n",
      "\u001b[32;1mOK\u001b[0m\n"
     ]
    }
   ],
   "source": [
    "! cpdctl asset file upload --path {remote_file_path} --file {local_file_path} --space-id {space_id}"
   ]
  },
  {
   "cell_type": "markdown",
   "metadata": {
    "id": "c965738a-b20b-4b54-80c6-fc3647c74d7f"
   },
   "source": [
    "Create a code package asset. The code package asset has the same name as the ZIP file."
   ]
  },
  {
   "cell_type": "code",
   "execution_count": 39,
   "metadata": {
    "id": "c8aeca3d-2421-499c-a0a4-4b67ea36f6c9"
   },
   "outputs": [],
   "source": [
    "os.environ[\"CPDCTL_ENABLE_CODE_PACKAGE\"] = \"true\""
   ]
  },
  {
   "cell_type": "code",
   "execution_count": 41,
   "metadata": {
    "id": "c23fbf49-12cf-499e-882c-96464cd6f2ff"
   },
   "outputs": [],
   "source": [
    "file_name = \"cpdctl-test-code-package.zip\""
   ]
  },
  {
   "cell_type": "code",
   "execution_count": 43,
   "metadata": {
    "id": "c09f0c94-c873-49e3-b19f-992bd6462109"
   },
   "outputs": [
    {
     "name": "stdout",
     "output_type": "stream",
     "text": [
      "code package id: 5b81c35c-4ccd-4090-993e-62cf5f6dd6d7\n"
     ]
    }
   ],
   "source": [
    "result = ! cpdctl code-package create --file-reference {remote_file_path} --name {file_name} --space-id {space_id} --output json -j \"metadata.asset_id\" --raw-output\n",
    "code_package_id = result.s\n",
    "print(\"code package id: {}\".format(code_package_id))"
   ]
  },
  {
   "cell_type": "markdown",
   "metadata": {
    "id": "d28cdf4c-ccb6-49bc-856c-f3f2f8c7ce34"
   },
   "source": [
    "### 3.2 Running a job <a class=\"anchor\" id=\"part3.2\"></a>"
   ]
  },
  {
   "cell_type": "markdown",
   "metadata": {
    "id": "2107d0a6-119f-4cbc-8c25-5cc4f76f94aa"
   },
   "source": [
    "List all the environments in your space, filter them by their display name and get the ID of the environment in which your code package will be run:"
   ]
  },
  {
   "cell_type": "code",
   "execution_count": 44,
   "metadata": {
    "id": "065fde6b-4a6c-465c-b0ba-4dd0d291276c"
   },
   "outputs": [],
   "source": [
    "environment_name = \"Default Python 3.8\"\n",
    "query_string = \"(resources[?entity.environment.display_name == '{}'].metadata.asset_id)[0]\".format(environment_name)"
   ]
  },
  {
   "cell_type": "code",
   "execution_count": 45,
   "metadata": {
    "id": "7c408430-8362-4686-bc3c-d23655eaf7ef"
   },
   "outputs": [
    {
     "name": "stdout",
     "output_type": "stream",
     "text": [
      "environment id: jupconda38-0f9bb565-a7d8-409b-baaf-5a56cd343155\n"
     ]
    }
   ],
   "source": [
    "result = ! cpdctl environment list --space-id {space_id} --output json -j \"{query_string}\" --raw-output\n",
    "env_id = result.s\n",
    "print(\"environment id: {}\".format(env_id))\n",
    "\n",
    "# You can also specify your environment id directly:\n",
    "# env_id = \"Your environment ID\""
   ]
  },
  {
   "cell_type": "markdown",
   "metadata": {
    "id": "7b8cc6dd-1fed-46ee-b792-e338850d3e8d"
   },
   "source": [
    "To create a code package job, you need to give your job a name, add a description, set an entrypoint and pass the code package ID and the environment ID. Additionally, you can add environment variables that will be used in your notebook:"
   ]
  },
  {
   "cell_type": "code",
   "execution_count": 46,
   "metadata": {
    "id": "0ba3c93d-b4b3-42a2-86f1-6162d5af1c9c"
   },
   "outputs": [],
   "source": [
    "job_name = \"cpdctl-test-code-package-job\"\n",
    "job = {\n",
    "    'asset_ref': code_package_id, \n",
    "    'configuration': {\n",
    "        'env_id': env_id, \n",
    "        'env_variables': [\n",
    "            'foo=1', \n",
    "            'bar=2'\n",
    "        ],\n",
    "        'entrypoint': \"test.ipynb\"\n",
    "    }, \n",
    "    'description': 'my code package job', \n",
    "    'name': job_name\n",
    "}\n",
    "job_json = json.dumps(job)"
   ]
  },
  {
   "cell_type": "code",
   "execution_count": 47,
   "metadata": {
    "id": "d055d27e-e206-480c-99ca-839ff86bc3fb"
   },
   "outputs": [
    {
     "name": "stdout",
     "output_type": "stream",
     "text": [
      "job id: 6506e20b-33a6-4e80-9468-4982b046fb5d\n"
     ]
    }
   ],
   "source": [
    "result = ! cpdctl job create --job '{job_json}' --space-id {space_id} --output json -j \"metadata.asset_id\" --raw-output\n",
    "job_id = result.s\n",
    "print(\"job id: {}\".format(job_id))"
   ]
  },
  {
   "cell_type": "markdown",
   "metadata": {
    "id": "107f056a-2aaf-47e1-8b2b-bcafba141f57"
   },
   "source": [
    "Run a code packge job:"
   ]
  },
  {
   "cell_type": "code",
   "execution_count": 48,
   "metadata": {
    "id": "05cd842a-1cb8-4bed-980b-2692d0a04188"
   },
   "outputs": [],
   "source": [
    "job_run = {\n",
    "    'configuration': {\n",
    "        'env_variables': [\n",
    "            'key1=value1', \n",
    "            'key2=value2'\n",
    "        ]\n",
    "    }\n",
    "}\n",
    "job_run_json = json.dumps(job_run)"
   ]
  },
  {
   "cell_type": "code",
   "execution_count": 49,
   "metadata": {
    "id": "800f96a6-5b25-47d6-8395-3b19a99aeec4"
   },
   "outputs": [
    {
     "name": "stdout",
     "output_type": "stream",
     "text": [
      "run id: 42c620cb-834a-46d2-b262-1a15d77fc687\n"
     ]
    }
   ],
   "source": [
    "result = ! cpdctl job run create --space-id {space_id} --job-id {job_id} --job-run '{job_run_json}' --output json -j \"metadata.asset_id\" --raw-output\n",
    "run_id = result.s\n",
    "print(\"run id: {}\".format(run_id))"
   ]
  },
  {
   "cell_type": "markdown",
   "metadata": {
    "id": "6b346bf0-ee3e-4a18-ab92-6a18f9691e37"
   },
   "source": [
    "You can see the output of each cell in your .ipynb file by listing job run logs:"
   ]
  },
  {
   "cell_type": "code",
   "execution_count": 50,
   "metadata": {
    "id": "c4c8aff3-d699-4ccc-9137-cf9f27357057",
    "scrolled": true
   },
   "outputs": [
    {
     "name": "stdout",
     "output_type": "stream",
     "text": [
      "...\n",
      "\n",
      "Cell 1:\n",
      "0\n",
      "1\n",
      "2\n",
      "3\n",
      "4\n",
      "\n",
      "\n"
     ]
    }
   ],
   "source": [
    "! cpdctl job run logs --job-id {job_id} --run-id {run_id} --space-id {space_id}"
   ]
  },
  {
   "cell_type": "markdown",
   "metadata": {
    "id": "0365d400-98c7-48d3-9cff-869e27934c4a"
   },
   "source": [
    "## 4. Demo 3: Promoting a notebook from a project to a space <a class=\"anchor\" id=\"part4\"></a>"
   ]
  },
  {
   "cell_type": "markdown",
   "metadata": {
    "id": "234292a5-4e9d-4840-ac56-073de39645a7"
   },
   "source": [
    "Before starting with this section, ensure that you have run the cells in [Section 1](#part1) and specified the ID of the space in which you will work."
   ]
  },
  {
   "cell_type": "markdown",
   "metadata": {
    "id": "cc4acb5d-8403-4195-9539-94584f262154"
   },
   "source": [
    "Suppose you have a notebook in a project and would like to promote a specific version of this notebook to a space. This section shows you how to promote a notebook from a project to a space on a CPD cluster."
   ]
  },
  {
   "cell_type": "markdown",
   "metadata": {
    "id": "15dff0ef-a378-4bd7-bd8f-07c01b386744"
   },
   "source": [
    "Choose a project from which you will promote your notebook:"
   ]
  },
  {
   "cell_type": "code",
   "execution_count": 51,
   "metadata": {
    "id": "c9786139-372e-4fe8-8ddd-1f125af2c2f4"
   },
   "outputs": [
    {
     "name": "stdout",
     "output_type": "stream",
     "text": [
      "project id: 0f5a1f58-7fdc-4a34-ad75-28c5b122758a\n"
     ]
    }
   ],
   "source": [
    "result = ! cpdctl project list --output json -j \"(resources[].metadata.guid)[0]\" --raw-output\n",
    "project_id = result.s\n",
    "print(\"project id: {}\".format(project_id))\n",
    "\n",
    "# You can also specify your project id directly:\n",
    "# project_id = \"Your project ID\""
   ]
  },
  {
   "cell_type": "markdown",
   "metadata": {
    "id": "aa74cc2a-6a1b-4d17-8741-6144d2667cd4"
   },
   "source": [
    "Specify the notebook you would like to promote:"
   ]
  },
  {
   "cell_type": "code",
   "execution_count": 52,
   "metadata": {
    "id": "2204d3e7-a7d5-4105-b199-3f4c34375ab0"
   },
   "outputs": [
    {
     "name": "stdout",
     "output_type": "stream",
     "text": [
      "notebook id in project: 8ead5d49-0a5d-4325-9017-996c3bf40245\n"
     ]
    }
   ],
   "source": [
    "result = ! cpdctl asset search --type-name notebook --query \"asset.asset_type:notebook\" --project-id {project_id} --output json -j \"(results[].metadata.asset_id)[0]\" --raw-output\n",
    "notebook_id_in_project = result.s\n",
    "print(\"notebook id in project: {}\".format(notebook_id_in_project))\n",
    "\n",
    "# You can also specify your notebook id in project directly:\n",
    "# notebook_id_in_project = \"Your notebook ID in project\""
   ]
  },
  {
   "cell_type": "markdown",
   "metadata": {
    "id": "d4fceb78-9c02-409c-ab0c-5f77c7037275"
   },
   "source": [
    "Create a version for your notebook if it has not any version and get its corresponding revision id:"
   ]
  },
  {
   "cell_type": "code",
   "execution_count": 58,
   "metadata": {
    "id": "04d9774f-6c22-4e90-b599-2d381a732849"
   },
   "outputs": [
    {
     "name": "stdout",
     "output_type": "stream",
     "text": [
      "revision id: 7\n"
     ]
    }
   ],
   "source": [
    "result = ! cpdctl notebook version create --notebook-id {notebook_id_in_project} --output json -j \"entity.rev_id\" --raw-output\n",
    "revision_id = result.s\n",
    "print(\"revision id: {}\".format(revision_id))"
   ]
  },
  {
   "cell_type": "markdown",
   "metadata": {
    "id": "1221dffc-3e92-43ab-9448-64aaa9ff0b02"
   },
   "source": [
    "Or specify an existing revision of the notebook:"
   ]
  },
  {
   "cell_type": "code",
   "execution_count": 59,
   "metadata": {
    "id": "8f0d964b-41a4-4b86-a132-ecec58c83157"
   },
   "outputs": [
    {
     "name": "stdout",
     "output_type": "stream",
     "text": [
      "revision id: 7\n"
     ]
    }
   ],
   "source": [
    "result = ! cpdctl notebook version list --notebook-id {notebook_id_in_project} --output json -j \"(resources[].entity.rev_id)[0]\" --raw-output\n",
    "revision_id = result.s\n",
    "print(\"revision id: {}\".format(revision_id))\n",
    "\n",
    "# You can also specify your revision id directly:\n",
    "# revision_id = \"Your revision ID\""
   ]
  },
  {
   "cell_type": "markdown",
   "metadata": {
    "id": "28c1217a-cf7f-4c98-b039-fb8aa3eb6706"
   },
   "source": [
    "Promote the notebook to the space. The parameters `name` and `description` are optional. If they are not specified, the name and description of the original notebook in the project will be used."
   ]
  },
  {
   "cell_type": "code",
   "execution_count": 60,
   "metadata": {
    "id": "bd47dc1b-1550-4375-8083-c725eb2c0fcd"
   },
   "outputs": [],
   "source": [
    "notebook_name = \"cpdctl_test_promote\"\n",
    "notebook_description = \"cpdctl test promote\"\n",
    "request_body = {\n",
    "    'space_id': space_id,\n",
    "    'metadata': {\n",
    "        'name': notebook_name,\n",
    "        'description': notebook_description\n",
    "    }\n",
    "}\n",
    "request_body = json.dumps(request_body)"
   ]
  },
  {
   "cell_type": "code",
   "execution_count": 61,
   "metadata": {
    "id": "6cca9ed9-fc90-4dda-a185-47bba309f68d"
   },
   "outputs": [
    {
     "name": "stdout",
     "output_type": "stream",
     "text": [
      "notebook id in space: [   \"20377bfa-4cb8-4a98-8e9b-94e83817daae\" ]\n"
     ]
    }
   ],
   "source": [
    "result = ! cpdctl asset promote --asset-id {notebook_id_in_project} --revision-id {revision_id} --project-id {project_id} --request-body '{request_body}'\n",
    "# verify that the notebook has been promoted into the space\n",
    "result = ! cpdctl asset search --space-id {space_id} --type-name notebook --query asset.name:{notebook_name} --output json -j \"(results[].metadata.asset_id)\" --raw-output\n",
    "notebook_id_in_space = result.s\n",
    "print(\"notebook id in space: {}\".format(notebook_id_in_space))"
   ]
  },
  {
   "cell_type": "markdown",
   "metadata": {
    "id": "00147732-521f-4e7c-85f2-c027dc42a1d3"
   },
   "source": [
    "Copyright © 2021 IBM. This notebook and its source code are released under the terms of the MIT License."
   ]
  }
 ],
 "metadata": {
  "kernelspec": {
   "display_name": "Python 3.8",
   "language": "python",
   "name": "python3"
  },
  "language_info": {
   "codemirror_mode": {
    "name": "ipython",
    "version": 3
   },
   "file_extension": ".py",
   "mimetype": "text/x-python",
   "name": "python",
   "nbconvert_exporter": "python",
   "pygments_lexer": "ipython3",
   "version": "3.8.11"
  }
 },
 "nbformat": 4,
 "nbformat_minor": 4
}
